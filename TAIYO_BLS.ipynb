{
  "nbformat": 4,
  "nbformat_minor": 0,
  "metadata": {
    "colab": {
      "provenance": []
    },
    "kernelspec": {
      "name": "python3",
      "display_name": "Python 3"
    },
    "language_info": {
      "name": "python"
    }
  },
  "cells": [
    {
      "cell_type": "markdown",
      "source": [
        "The PyBLS module is a python module specifically designed to interact with the Bureau of Labor Statistics API and transform the results into a Pandas Dataframe. https://pypi.org/project/bls-data/#description"
      ],
      "metadata": {
        "id": "Q9-v0VZK-W0c"
      }
    },
    {
      "cell_type": "code",
      "execution_count": null,
      "metadata": {
        "id": "63UYN2Pxuez8"
      },
      "outputs": [],
      "source": [
        "!pip install bls"
      ]
    },
    {
      "cell_type": "markdown",
      "source": [
        "Importing necessary libraries"
      ],
      "metadata": {
        "id": "-9XzpjT6_Hs3"
      }
    },
    {
      "cell_type": "code",
      "source": [
        "import pandas as pd\n",
        "import matplotlib as plt\n",
        "import numpy as np\n",
        "import bls"
      ],
      "metadata": {
        "id": "MY-yaL7hv7te"
      },
      "execution_count": 3,
      "outputs": []
    },
    {
      "cell_type": "markdown",
      "source": [
        "Importing Data of Consumer Price Index CPI), Un Employement Rate(UNEMPR), Current Employement Statistics(CESR), Labor Force Participation Rate(LFPR).\n",
        "\n",
        "Saving them to corresponding csv files.\n"
      ],
      "metadata": {
        "id": "I6GUfOuJ_Mwa"
      }
    },
    {
      "cell_type": "code",
      "source": [
        "cpi = bls.get_series('CUUR0000SA0')\n",
        "cpi.to_csv('cpi_data.csv')\n",
        "cpi_data = pd.read_csv('cpi_data.csv')\n",
        "cpi_data.columns = 'Date','CPI'"
      ],
      "metadata": {
        "id": "6D-ZPjzbwBPE"
      },
      "execution_count": 4,
      "outputs": []
    },
    {
      "cell_type": "code",
      "source": [
        "unemp = bls.get_series('LNS14000000')\n",
        "unemp.to_csv('unemp_data.csv')\n",
        "unemp_data = pd.read_csv('unemp_data.csv')\n",
        "unemp_data.columns = 'Date','UNEMPR'"
      ],
      "metadata": {
        "id": "JNsZVKityDlU"
      },
      "execution_count": 5,
      "outputs": []
    },
    {
      "cell_type": "code",
      "source": [
        "ces = bls.get_series('CES0000000001')\n",
        "ces.to_csv('ces_data.csv')\n",
        "ces_data = pd.read_csv('ces_data.csv')\n",
        "ces_data.columns = 'Date','CESR'"
      ],
      "metadata": {
        "id": "3FraZnG3yV3f"
      },
      "execution_count": 6,
      "outputs": []
    },
    {
      "cell_type": "code",
      "source": [
        "lfpr = bls.get_series('LNS11300000')\n",
        "lfpr.to_csv('lfpr_data.csv')\n",
        "lfpr_data = pd.read_csv('lfpr_data.csv')\n",
        "lfpr_data.columns = 'Date','LFPR'"
      ],
      "metadata": {
        "id": "zabxcBUDyKm9"
      },
      "execution_count": 7,
      "outputs": []
    },
    {
      "cell_type": "code",
      "source": [
        "#cpi_data.head()"
      ],
      "metadata": {
        "id": "5MUlXDFewSSL"
      },
      "execution_count": null,
      "outputs": []
    },
    {
      "cell_type": "code",
      "source": [
        "#cpi_data.shape"
      ],
      "metadata": {
        "id": "LkW0iXKUwlpb"
      },
      "execution_count": null,
      "outputs": []
    },
    {
      "cell_type": "code",
      "source": [
        "#cpi_data.info()"
      ],
      "metadata": {
        "id": "GtOflRspwXnn"
      },
      "execution_count": null,
      "outputs": []
    },
    {
      "cell_type": "markdown",
      "source": [
        "MERGING DATA"
      ],
      "metadata": {
        "id": "Zp8xUor2AJaw"
      }
    },
    {
      "cell_type": "code",
      "source": [
        "from functools import reduce"
      ],
      "metadata": {
        "id": "v_bjSdzG1b5a"
      },
      "execution_count": 11,
      "outputs": []
    },
    {
      "cell_type": "code",
      "source": [
        "finaldf = reduce(lambda left,right: pd.merge(left, right, on='Date', how='left'), [cpi_data,unemp_data,ces_data,lfpr_data])"
      ],
      "metadata": {
        "id": "uCRMz4f01Wl7"
      },
      "execution_count": 12,
      "outputs": []
    },
    {
      "cell_type": "markdown",
      "source": [
        "STUDYING DATA"
      ],
      "metadata": {
        "id": "uxL9OPbKBe8G"
      }
    },
    {
      "cell_type": "code",
      "source": [
        "import seaborn as sns"
      ],
      "metadata": {
        "id": "NWJITVJa860v"
      },
      "execution_count": 19,
      "outputs": []
    },
    {
      "cell_type": "code",
      "source": [
        "finaldf.head()"
      ],
      "metadata": {
        "colab": {
          "base_uri": "https://localhost:8080/",
          "height": 206
        },
        "id": "Lx3_4NGb1vyn",
        "outputId": "b77dcb80-05ac-4758-a4c6-3f6ac3ca4e7c"
      },
      "execution_count": 75,
      "outputs": [
        {
          "output_type": "execute_result",
          "data": {
            "text/plain": [
              "      Date      CPI  UNEMPR      CESR  LFPR\n",
              "0  2013-01  230.280     8.0  135263.0  63.7\n",
              "1  2013-02  232.166     7.7  135541.0  63.4\n",
              "2  2013-03  232.773     7.5  135680.0  63.3\n",
              "3  2013-04  232.531     7.6  135871.0  63.4\n",
              "4  2013-05  232.945     7.5  136093.0  63.4"
            ],
            "text/html": [
              "\n",
              "  <div id=\"df-03a88432-1cc1-4be1-9537-7b59c098b17b\">\n",
              "    <div class=\"colab-df-container\">\n",
              "      <div>\n",
              "<style scoped>\n",
              "    .dataframe tbody tr th:only-of-type {\n",
              "        vertical-align: middle;\n",
              "    }\n",
              "\n",
              "    .dataframe tbody tr th {\n",
              "        vertical-align: top;\n",
              "    }\n",
              "\n",
              "    .dataframe thead th {\n",
              "        text-align: right;\n",
              "    }\n",
              "</style>\n",
              "<table border=\"1\" class=\"dataframe\">\n",
              "  <thead>\n",
              "    <tr style=\"text-align: right;\">\n",
              "      <th></th>\n",
              "      <th>Date</th>\n",
              "      <th>CPI</th>\n",
              "      <th>UNEMPR</th>\n",
              "      <th>CESR</th>\n",
              "      <th>LFPR</th>\n",
              "    </tr>\n",
              "  </thead>\n",
              "  <tbody>\n",
              "    <tr>\n",
              "      <th>0</th>\n",
              "      <td>2013-01</td>\n",
              "      <td>230.280</td>\n",
              "      <td>8.0</td>\n",
              "      <td>135263.0</td>\n",
              "      <td>63.7</td>\n",
              "    </tr>\n",
              "    <tr>\n",
              "      <th>1</th>\n",
              "      <td>2013-02</td>\n",
              "      <td>232.166</td>\n",
              "      <td>7.7</td>\n",
              "      <td>135541.0</td>\n",
              "      <td>63.4</td>\n",
              "    </tr>\n",
              "    <tr>\n",
              "      <th>2</th>\n",
              "      <td>2013-03</td>\n",
              "      <td>232.773</td>\n",
              "      <td>7.5</td>\n",
              "      <td>135680.0</td>\n",
              "      <td>63.3</td>\n",
              "    </tr>\n",
              "    <tr>\n",
              "      <th>3</th>\n",
              "      <td>2013-04</td>\n",
              "      <td>232.531</td>\n",
              "      <td>7.6</td>\n",
              "      <td>135871.0</td>\n",
              "      <td>63.4</td>\n",
              "    </tr>\n",
              "    <tr>\n",
              "      <th>4</th>\n",
              "      <td>2013-05</td>\n",
              "      <td>232.945</td>\n",
              "      <td>7.5</td>\n",
              "      <td>136093.0</td>\n",
              "      <td>63.4</td>\n",
              "    </tr>\n",
              "  </tbody>\n",
              "</table>\n",
              "</div>\n",
              "      <button class=\"colab-df-convert\" onclick=\"convertToInteractive('df-03a88432-1cc1-4be1-9537-7b59c098b17b')\"\n",
              "              title=\"Convert this dataframe to an interactive table.\"\n",
              "              style=\"display:none;\">\n",
              "        \n",
              "  <svg xmlns=\"http://www.w3.org/2000/svg\" height=\"24px\"viewBox=\"0 0 24 24\"\n",
              "       width=\"24px\">\n",
              "    <path d=\"M0 0h24v24H0V0z\" fill=\"none\"/>\n",
              "    <path d=\"M18.56 5.44l.94 2.06.94-2.06 2.06-.94-2.06-.94-.94-2.06-.94 2.06-2.06.94zm-11 1L8.5 8.5l.94-2.06 2.06-.94-2.06-.94L8.5 2.5l-.94 2.06-2.06.94zm10 10l.94 2.06.94-2.06 2.06-.94-2.06-.94-.94-2.06-.94 2.06-2.06.94z\"/><path d=\"M17.41 7.96l-1.37-1.37c-.4-.4-.92-.59-1.43-.59-.52 0-1.04.2-1.43.59L10.3 9.45l-7.72 7.72c-.78.78-.78 2.05 0 2.83L4 21.41c.39.39.9.59 1.41.59.51 0 1.02-.2 1.41-.59l7.78-7.78 2.81-2.81c.8-.78.8-2.07 0-2.86zM5.41 20L4 18.59l7.72-7.72 1.47 1.35L5.41 20z\"/>\n",
              "  </svg>\n",
              "      </button>\n",
              "      \n",
              "  <style>\n",
              "    .colab-df-container {\n",
              "      display:flex;\n",
              "      flex-wrap:wrap;\n",
              "      gap: 12px;\n",
              "    }\n",
              "\n",
              "    .colab-df-convert {\n",
              "      background-color: #E8F0FE;\n",
              "      border: none;\n",
              "      border-radius: 50%;\n",
              "      cursor: pointer;\n",
              "      display: none;\n",
              "      fill: #1967D2;\n",
              "      height: 32px;\n",
              "      padding: 0 0 0 0;\n",
              "      width: 32px;\n",
              "    }\n",
              "\n",
              "    .colab-df-convert:hover {\n",
              "      background-color: #E2EBFA;\n",
              "      box-shadow: 0px 1px 2px rgba(60, 64, 67, 0.3), 0px 1px 3px 1px rgba(60, 64, 67, 0.15);\n",
              "      fill: #174EA6;\n",
              "    }\n",
              "\n",
              "    [theme=dark] .colab-df-convert {\n",
              "      background-color: #3B4455;\n",
              "      fill: #D2E3FC;\n",
              "    }\n",
              "\n",
              "    [theme=dark] .colab-df-convert:hover {\n",
              "      background-color: #434B5C;\n",
              "      box-shadow: 0px 1px 3px 1px rgba(0, 0, 0, 0.15);\n",
              "      filter: drop-shadow(0px 1px 2px rgba(0, 0, 0, 0.3));\n",
              "      fill: #FFFFFF;\n",
              "    }\n",
              "  </style>\n",
              "\n",
              "      <script>\n",
              "        const buttonEl =\n",
              "          document.querySelector('#df-03a88432-1cc1-4be1-9537-7b59c098b17b button.colab-df-convert');\n",
              "        buttonEl.style.display =\n",
              "          google.colab.kernel.accessAllowed ? 'block' : 'none';\n",
              "\n",
              "        async function convertToInteractive(key) {\n",
              "          const element = document.querySelector('#df-03a88432-1cc1-4be1-9537-7b59c098b17b');\n",
              "          const dataTable =\n",
              "            await google.colab.kernel.invokeFunction('convertToInteractive',\n",
              "                                                     [key], {});\n",
              "          if (!dataTable) return;\n",
              "\n",
              "          const docLinkHtml = 'Like what you see? Visit the ' +\n",
              "            '<a target=\"_blank\" href=https://colab.research.google.com/notebooks/data_table.ipynb>data table notebook</a>'\n",
              "            + ' to learn more about interactive tables.';\n",
              "          element.innerHTML = '';\n",
              "          dataTable['output_type'] = 'display_data';\n",
              "          await google.colab.output.renderOutput(dataTable, element);\n",
              "          const docLink = document.createElement('div');\n",
              "          docLink.innerHTML = docLinkHtml;\n",
              "          element.appendChild(docLink);\n",
              "        }\n",
              "      </script>\n",
              "    </div>\n",
              "  </div>\n",
              "  "
            ]
          },
          "metadata": {},
          "execution_count": 75
        }
      ]
    },
    {
      "cell_type": "code",
      "source": [
        "finaldf.shape"
      ],
      "metadata": {
        "colab": {
          "base_uri": "https://localhost:8080/"
        },
        "id": "-Kf5R0m1A_Yp",
        "outputId": "e95acac5-cf39-4937-97ab-a5ee5092f719"
      },
      "execution_count": 31,
      "outputs": [
        {
          "output_type": "execute_result",
          "data": {
            "text/plain": [
              "(118, 5)"
            ]
          },
          "metadata": {},
          "execution_count": 31
        }
      ]
    },
    {
      "cell_type": "markdown",
      "source": [
        "18 Columns and 5 Rows"
      ],
      "metadata": {
        "id": "ZvMaqGG9JAX7"
      }
    },
    {
      "cell_type": "code",
      "source": [
        "finaldf.describe()"
      ],
      "metadata": {
        "colab": {
          "base_uri": "https://localhost:8080/",
          "height": 300
        },
        "id": "T5RS1AhBA6zH",
        "outputId": "faf9db76-9716-4401-c485-46432802fc2b"
      },
      "execution_count": 76,
      "outputs": [
        {
          "output_type": "execute_result",
          "data": {
            "text/plain": [
              "              CPI      UNEMPR           CESR        LFPR\n",
              "count  118.000000  118.000000     118.000000  118.000000\n",
              "mean   251.338449    5.297458  144661.423729   62.614407\n",
              "std     17.001864    1.859485    5295.004503    0.610069\n",
              "min    230.280000    3.500000  130513.000000   60.200000\n",
              "25%    237.864000    3.925000  140744.500000   62.400000\n",
              "50%    246.744000    4.900000  145106.000000   62.800000\n",
              "75%    258.079000    6.100000  149261.750000   62.900000\n",
              "max    298.012000   14.700000  153308.000000   63.700000"
            ],
            "text/html": [
              "\n",
              "  <div id=\"df-c6b7dae7-4239-4757-b727-c55221248eb0\">\n",
              "    <div class=\"colab-df-container\">\n",
              "      <div>\n",
              "<style scoped>\n",
              "    .dataframe tbody tr th:only-of-type {\n",
              "        vertical-align: middle;\n",
              "    }\n",
              "\n",
              "    .dataframe tbody tr th {\n",
              "        vertical-align: top;\n",
              "    }\n",
              "\n",
              "    .dataframe thead th {\n",
              "        text-align: right;\n",
              "    }\n",
              "</style>\n",
              "<table border=\"1\" class=\"dataframe\">\n",
              "  <thead>\n",
              "    <tr style=\"text-align: right;\">\n",
              "      <th></th>\n",
              "      <th>CPI</th>\n",
              "      <th>UNEMPR</th>\n",
              "      <th>CESR</th>\n",
              "      <th>LFPR</th>\n",
              "    </tr>\n",
              "  </thead>\n",
              "  <tbody>\n",
              "    <tr>\n",
              "      <th>count</th>\n",
              "      <td>118.000000</td>\n",
              "      <td>118.000000</td>\n",
              "      <td>118.000000</td>\n",
              "      <td>118.000000</td>\n",
              "    </tr>\n",
              "    <tr>\n",
              "      <th>mean</th>\n",
              "      <td>251.338449</td>\n",
              "      <td>5.297458</td>\n",
              "      <td>144661.423729</td>\n",
              "      <td>62.614407</td>\n",
              "    </tr>\n",
              "    <tr>\n",
              "      <th>std</th>\n",
              "      <td>17.001864</td>\n",
              "      <td>1.859485</td>\n",
              "      <td>5295.004503</td>\n",
              "      <td>0.610069</td>\n",
              "    </tr>\n",
              "    <tr>\n",
              "      <th>min</th>\n",
              "      <td>230.280000</td>\n",
              "      <td>3.500000</td>\n",
              "      <td>130513.000000</td>\n",
              "      <td>60.200000</td>\n",
              "    </tr>\n",
              "    <tr>\n",
              "      <th>25%</th>\n",
              "      <td>237.864000</td>\n",
              "      <td>3.925000</td>\n",
              "      <td>140744.500000</td>\n",
              "      <td>62.400000</td>\n",
              "    </tr>\n",
              "    <tr>\n",
              "      <th>50%</th>\n",
              "      <td>246.744000</td>\n",
              "      <td>4.900000</td>\n",
              "      <td>145106.000000</td>\n",
              "      <td>62.800000</td>\n",
              "    </tr>\n",
              "    <tr>\n",
              "      <th>75%</th>\n",
              "      <td>258.079000</td>\n",
              "      <td>6.100000</td>\n",
              "      <td>149261.750000</td>\n",
              "      <td>62.900000</td>\n",
              "    </tr>\n",
              "    <tr>\n",
              "      <th>max</th>\n",
              "      <td>298.012000</td>\n",
              "      <td>14.700000</td>\n",
              "      <td>153308.000000</td>\n",
              "      <td>63.700000</td>\n",
              "    </tr>\n",
              "  </tbody>\n",
              "</table>\n",
              "</div>\n",
              "      <button class=\"colab-df-convert\" onclick=\"convertToInteractive('df-c6b7dae7-4239-4757-b727-c55221248eb0')\"\n",
              "              title=\"Convert this dataframe to an interactive table.\"\n",
              "              style=\"display:none;\">\n",
              "        \n",
              "  <svg xmlns=\"http://www.w3.org/2000/svg\" height=\"24px\"viewBox=\"0 0 24 24\"\n",
              "       width=\"24px\">\n",
              "    <path d=\"M0 0h24v24H0V0z\" fill=\"none\"/>\n",
              "    <path d=\"M18.56 5.44l.94 2.06.94-2.06 2.06-.94-2.06-.94-.94-2.06-.94 2.06-2.06.94zm-11 1L8.5 8.5l.94-2.06 2.06-.94-2.06-.94L8.5 2.5l-.94 2.06-2.06.94zm10 10l.94 2.06.94-2.06 2.06-.94-2.06-.94-.94-2.06-.94 2.06-2.06.94z\"/><path d=\"M17.41 7.96l-1.37-1.37c-.4-.4-.92-.59-1.43-.59-.52 0-1.04.2-1.43.59L10.3 9.45l-7.72 7.72c-.78.78-.78 2.05 0 2.83L4 21.41c.39.39.9.59 1.41.59.51 0 1.02-.2 1.41-.59l7.78-7.78 2.81-2.81c.8-.78.8-2.07 0-2.86zM5.41 20L4 18.59l7.72-7.72 1.47 1.35L5.41 20z\"/>\n",
              "  </svg>\n",
              "      </button>\n",
              "      \n",
              "  <style>\n",
              "    .colab-df-container {\n",
              "      display:flex;\n",
              "      flex-wrap:wrap;\n",
              "      gap: 12px;\n",
              "    }\n",
              "\n",
              "    .colab-df-convert {\n",
              "      background-color: #E8F0FE;\n",
              "      border: none;\n",
              "      border-radius: 50%;\n",
              "      cursor: pointer;\n",
              "      display: none;\n",
              "      fill: #1967D2;\n",
              "      height: 32px;\n",
              "      padding: 0 0 0 0;\n",
              "      width: 32px;\n",
              "    }\n",
              "\n",
              "    .colab-df-convert:hover {\n",
              "      background-color: #E2EBFA;\n",
              "      box-shadow: 0px 1px 2px rgba(60, 64, 67, 0.3), 0px 1px 3px 1px rgba(60, 64, 67, 0.15);\n",
              "      fill: #174EA6;\n",
              "    }\n",
              "\n",
              "    [theme=dark] .colab-df-convert {\n",
              "      background-color: #3B4455;\n",
              "      fill: #D2E3FC;\n",
              "    }\n",
              "\n",
              "    [theme=dark] .colab-df-convert:hover {\n",
              "      background-color: #434B5C;\n",
              "      box-shadow: 0px 1px 3px 1px rgba(0, 0, 0, 0.15);\n",
              "      filter: drop-shadow(0px 1px 2px rgba(0, 0, 0, 0.3));\n",
              "      fill: #FFFFFF;\n",
              "    }\n",
              "  </style>\n",
              "\n",
              "      <script>\n",
              "        const buttonEl =\n",
              "          document.querySelector('#df-c6b7dae7-4239-4757-b727-c55221248eb0 button.colab-df-convert');\n",
              "        buttonEl.style.display =\n",
              "          google.colab.kernel.accessAllowed ? 'block' : 'none';\n",
              "\n",
              "        async function convertToInteractive(key) {\n",
              "          const element = document.querySelector('#df-c6b7dae7-4239-4757-b727-c55221248eb0');\n",
              "          const dataTable =\n",
              "            await google.colab.kernel.invokeFunction('convertToInteractive',\n",
              "                                                     [key], {});\n",
              "          if (!dataTable) return;\n",
              "\n",
              "          const docLinkHtml = 'Like what you see? Visit the ' +\n",
              "            '<a target=\"_blank\" href=https://colab.research.google.com/notebooks/data_table.ipynb>data table notebook</a>'\n",
              "            + ' to learn more about interactive tables.';\n",
              "          element.innerHTML = '';\n",
              "          dataTable['output_type'] = 'display_data';\n",
              "          await google.colab.output.renderOutput(dataTable, element);\n",
              "          const docLink = document.createElement('div');\n",
              "          docLink.innerHTML = docLinkHtml;\n",
              "          element.appendChild(docLink);\n",
              "        }\n",
              "      </script>\n",
              "    </div>\n",
              "  </div>\n",
              "  "
            ]
          },
          "metadata": {},
          "execution_count": 76
        }
      ]
    },
    {
      "cell_type": "markdown",
      "source": [
        "Stastical Summary Of Data"
      ],
      "metadata": {
        "id": "07yM1_iQJGkE"
      }
    },
    {
      "cell_type": "code",
      "source": [
        "finaldf.corr()"
      ],
      "metadata": {
        "colab": {
          "base_uri": "https://localhost:8080/",
          "height": 175
        },
        "id": "q4CW1mtRA9Xg",
        "outputId": "73d00da3-78ed-47a7-c68b-e14372912ba6"
      },
      "execution_count": 29,
      "outputs": [
        {
          "output_type": "execute_result",
          "data": {
            "text/plain": [
              "             CPI    UNEMPR      CESR      LFPR\n",
              "CPI     1.000000 -0.283746  0.644788 -0.538385\n",
              "UNEMPR -0.283746  1.000000 -0.847043 -0.422189\n",
              "CESR    0.644788 -0.847043  1.000000  0.064827\n",
              "LFPR   -0.538385 -0.422189  0.064827  1.000000"
            ],
            "text/html": [
              "\n",
              "  <div id=\"df-0f34d27f-b247-4bd3-98a7-b8ce2e1a5358\">\n",
              "    <div class=\"colab-df-container\">\n",
              "      <div>\n",
              "<style scoped>\n",
              "    .dataframe tbody tr th:only-of-type {\n",
              "        vertical-align: middle;\n",
              "    }\n",
              "\n",
              "    .dataframe tbody tr th {\n",
              "        vertical-align: top;\n",
              "    }\n",
              "\n",
              "    .dataframe thead th {\n",
              "        text-align: right;\n",
              "    }\n",
              "</style>\n",
              "<table border=\"1\" class=\"dataframe\">\n",
              "  <thead>\n",
              "    <tr style=\"text-align: right;\">\n",
              "      <th></th>\n",
              "      <th>CPI</th>\n",
              "      <th>UNEMPR</th>\n",
              "      <th>CESR</th>\n",
              "      <th>LFPR</th>\n",
              "    </tr>\n",
              "  </thead>\n",
              "  <tbody>\n",
              "    <tr>\n",
              "      <th>CPI</th>\n",
              "      <td>1.000000</td>\n",
              "      <td>-0.283746</td>\n",
              "      <td>0.644788</td>\n",
              "      <td>-0.538385</td>\n",
              "    </tr>\n",
              "    <tr>\n",
              "      <th>UNEMPR</th>\n",
              "      <td>-0.283746</td>\n",
              "      <td>1.000000</td>\n",
              "      <td>-0.847043</td>\n",
              "      <td>-0.422189</td>\n",
              "    </tr>\n",
              "    <tr>\n",
              "      <th>CESR</th>\n",
              "      <td>0.644788</td>\n",
              "      <td>-0.847043</td>\n",
              "      <td>1.000000</td>\n",
              "      <td>0.064827</td>\n",
              "    </tr>\n",
              "    <tr>\n",
              "      <th>LFPR</th>\n",
              "      <td>-0.538385</td>\n",
              "      <td>-0.422189</td>\n",
              "      <td>0.064827</td>\n",
              "      <td>1.000000</td>\n",
              "    </tr>\n",
              "  </tbody>\n",
              "</table>\n",
              "</div>\n",
              "      <button class=\"colab-df-convert\" onclick=\"convertToInteractive('df-0f34d27f-b247-4bd3-98a7-b8ce2e1a5358')\"\n",
              "              title=\"Convert this dataframe to an interactive table.\"\n",
              "              style=\"display:none;\">\n",
              "        \n",
              "  <svg xmlns=\"http://www.w3.org/2000/svg\" height=\"24px\"viewBox=\"0 0 24 24\"\n",
              "       width=\"24px\">\n",
              "    <path d=\"M0 0h24v24H0V0z\" fill=\"none\"/>\n",
              "    <path d=\"M18.56 5.44l.94 2.06.94-2.06 2.06-.94-2.06-.94-.94-2.06-.94 2.06-2.06.94zm-11 1L8.5 8.5l.94-2.06 2.06-.94-2.06-.94L8.5 2.5l-.94 2.06-2.06.94zm10 10l.94 2.06.94-2.06 2.06-.94-2.06-.94-.94-2.06-.94 2.06-2.06.94z\"/><path d=\"M17.41 7.96l-1.37-1.37c-.4-.4-.92-.59-1.43-.59-.52 0-1.04.2-1.43.59L10.3 9.45l-7.72 7.72c-.78.78-.78 2.05 0 2.83L4 21.41c.39.39.9.59 1.41.59.51 0 1.02-.2 1.41-.59l7.78-7.78 2.81-2.81c.8-.78.8-2.07 0-2.86zM5.41 20L4 18.59l7.72-7.72 1.47 1.35L5.41 20z\"/>\n",
              "  </svg>\n",
              "      </button>\n",
              "      \n",
              "  <style>\n",
              "    .colab-df-container {\n",
              "      display:flex;\n",
              "      flex-wrap:wrap;\n",
              "      gap: 12px;\n",
              "    }\n",
              "\n",
              "    .colab-df-convert {\n",
              "      background-color: #E8F0FE;\n",
              "      border: none;\n",
              "      border-radius: 50%;\n",
              "      cursor: pointer;\n",
              "      display: none;\n",
              "      fill: #1967D2;\n",
              "      height: 32px;\n",
              "      padding: 0 0 0 0;\n",
              "      width: 32px;\n",
              "    }\n",
              "\n",
              "    .colab-df-convert:hover {\n",
              "      background-color: #E2EBFA;\n",
              "      box-shadow: 0px 1px 2px rgba(60, 64, 67, 0.3), 0px 1px 3px 1px rgba(60, 64, 67, 0.15);\n",
              "      fill: #174EA6;\n",
              "    }\n",
              "\n",
              "    [theme=dark] .colab-df-convert {\n",
              "      background-color: #3B4455;\n",
              "      fill: #D2E3FC;\n",
              "    }\n",
              "\n",
              "    [theme=dark] .colab-df-convert:hover {\n",
              "      background-color: #434B5C;\n",
              "      box-shadow: 0px 1px 3px 1px rgba(0, 0, 0, 0.15);\n",
              "      filter: drop-shadow(0px 1px 2px rgba(0, 0, 0, 0.3));\n",
              "      fill: #FFFFFF;\n",
              "    }\n",
              "  </style>\n",
              "\n",
              "      <script>\n",
              "        const buttonEl =\n",
              "          document.querySelector('#df-0f34d27f-b247-4bd3-98a7-b8ce2e1a5358 button.colab-df-convert');\n",
              "        buttonEl.style.display =\n",
              "          google.colab.kernel.accessAllowed ? 'block' : 'none';\n",
              "\n",
              "        async function convertToInteractive(key) {\n",
              "          const element = document.querySelector('#df-0f34d27f-b247-4bd3-98a7-b8ce2e1a5358');\n",
              "          const dataTable =\n",
              "            await google.colab.kernel.invokeFunction('convertToInteractive',\n",
              "                                                     [key], {});\n",
              "          if (!dataTable) return;\n",
              "\n",
              "          const docLinkHtml = 'Like what you see? Visit the ' +\n",
              "            '<a target=\"_blank\" href=https://colab.research.google.com/notebooks/data_table.ipynb>data table notebook</a>'\n",
              "            + ' to learn more about interactive tables.';\n",
              "          element.innerHTML = '';\n",
              "          dataTable['output_type'] = 'display_data';\n",
              "          await google.colab.output.renderOutput(dataTable, element);\n",
              "          const docLink = document.createElement('div');\n",
              "          docLink.innerHTML = docLinkHtml;\n",
              "          element.appendChild(docLink);\n",
              "        }\n",
              "      </script>\n",
              "    </div>\n",
              "  </div>\n",
              "  "
            ]
          },
          "metadata": {},
          "execution_count": 29
        }
      ]
    },
    {
      "cell_type": "markdown",
      "source": [
        "Positive meaning direct correlation, Negative means Negative corellation"
      ],
      "metadata": {
        "id": "d6Et0dyTIlFn"
      }
    },
    {
      "cell_type": "code",
      "source": [
        "sns.heatmap(finaldf.corr())"
      ],
      "metadata": {
        "id": "2MCiZRpqKSSV",
        "outputId": "e85f9e61-380e-4583-ad3e-4ae9e20168e9",
        "colab": {
          "base_uri": "https://localhost:8080/",
          "height": 286
        }
      },
      "execution_count": 77,
      "outputs": [
        {
          "output_type": "execute_result",
          "data": {
            "text/plain": [
              "<matplotlib.axes._subplots.AxesSubplot at 0x7f7aa8569150>"
            ]
          },
          "metadata": {},
          "execution_count": 77
        },
        {
          "output_type": "display_data",
          "data": {
            "text/plain": [
              "<Figure size 432x288 with 2 Axes>"
            ],
            "image/png": "[encoded data removed]"
          },
          "metadata": {
            "needs_background": "light"
          }
        }
      ]
    },
    {
      "cell_type": "markdown",
      "source": [
        "Co-Relation Between FeaturesVisualization Through Hwat Map"
      ],
      "metadata": {
        "id": "LkdbfS26Kg0F"
      }
    },
    {
      "cell_type": "markdown",
      "source": [
        "VISUALIZING DATA"
      ],
      "metadata": {
        "id": "MW2WqPtkGmlY"
      }
    },
    {
      "cell_type": "code",
      "source": [
        "sns.catplot(y='CPI',data=finaldf,kind='strip')"
      ],
      "metadata": {
        "colab": {
          "base_uri": "https://localhost:8080/",
          "height": 386
        },
        "id": "GU_2SupWCZ9k",
        "outputId": "f8bcee83-2d86-4f72-eed0-efb5852a2181"
      },
      "execution_count": 56,
      "outputs": [
        {
          "output_type": "execute_result",
          "data": {
            "text/plain": [
              "<seaborn.axisgrid.FacetGrid at 0x7f7aa9013550>"
            ]
          },
          "metadata": {},
          "execution_count": 56
        },
        {
          "output_type": "display_data",
          "data": {
            "text/plain": [
              "<Figure size 360x360 with 1 Axes>"
            ],
            "image/png": "[encoded data removed]"
          },
          "metadata": {
            "needs_background": "light"
          }
        }
      ]
    },
    {
      "cell_type": "markdown",
      "source": [
        "CPI mostly Concentrated Around 230 to 240"
      ],
      "metadata": {
        "id": "mDplkQAUK1oX"
      }
    },
    {
      "cell_type": "code",
      "source": [
        "sns.catplot(y='CESR',data=finaldf,kind='strip')"
      ],
      "metadata": {
        "colab": {
          "base_uri": "https://localhost:8080/",
          "height": 386
        },
        "id": "0daZ3htIC9XQ",
        "outputId": "56568f0b-cd17-420b-c027-ba6dc4c5d6e3"
      },
      "execution_count": 57,
      "outputs": [
        {
          "output_type": "execute_result",
          "data": {
            "text/plain": [
              "<seaborn.axisgrid.FacetGrid at 0x7f7aa8fef350>"
            ]
          },
          "metadata": {},
          "execution_count": 57
        },
        {
          "output_type": "display_data",
          "data": {
            "text/plain": [
              "<Figure size 360x360 with 1 Axes>"
            ],
            "image/png": "[encoded data removed]"
          },
          "metadata": {
            "needs_background": "light"
          }
        }
      ]
    },
    {
      "cell_type": "markdown",
      "source": [
        "Current Employment Statistics is most of times more than 135000"
      ],
      "metadata": {
        "id": "aPETiQkrLIRl"
      }
    },
    {
      "cell_type": "code",
      "source": [
        "sns.catplot(y='UNEMPR',data=finaldf,kind='strip')"
      ],
      "metadata": {
        "colab": {
          "base_uri": "https://localhost:8080/",
          "height": 386
        },
        "id": "Y2nGAZRxC9-O",
        "outputId": "b148ccce-479a-419f-9206-de05efea21a0"
      },
      "execution_count": 58,
      "outputs": [
        {
          "output_type": "execute_result",
          "data": {
            "text/plain": [
              "<seaborn.axisgrid.FacetGrid at 0x7f7aa8fae5d0>"
            ]
          },
          "metadata": {},
          "execution_count": 58
        },
        {
          "output_type": "display_data",
          "data": {
            "text/plain": [
              "<Figure size 360x360 with 1 Axes>"
            ],
            "image/png": "[encoded data removed]"
          },
          "metadata": {
            "needs_background": "light"
          }
        }
      ]
    },
    {
      "cell_type": "markdown",
      "source": [
        "Unemployment Rate Is Concemtrated Around 4% and very few time moer than 14%"
      ],
      "metadata": {
        "id": "8rWYcByFLepn"
      }
    },
    {
      "cell_type": "code",
      "source": [
        "sns.catplot(y='LFPR',data=finaldf,kind='strip')"
      ],
      "metadata": {
        "colab": {
          "base_uri": "https://localhost:8080/",
          "height": 386
        },
        "id": "-Jyffk-vC-mx",
        "outputId": "469b8e19-930a-41a6-e62f-c28cabc51c4d"
      },
      "execution_count": 59,
      "outputs": [
        {
          "output_type": "execute_result",
          "data": {
            "text/plain": [
              "<seaborn.axisgrid.FacetGrid at 0x7f7aa8eb5190>"
            ]
          },
          "metadata": {},
          "execution_count": 59
        },
        {
          "output_type": "display_data",
          "data": {
            "text/plain": [
              "<Figure size 360x360 with 1 Axes>"
            ],
            "image/png": "[encoded data removed]"
          },
          "metadata": {
            "needs_background": "light"
          }
        }
      ]
    },
    {
      "cell_type": "markdown",
      "source": [
        "Labor Force Particapation Rate has been mostly around 63%"
      ],
      "metadata": {
        "id": "2gqQwW9oMQ3E"
      }
    },
    {
      "cell_type": "markdown",
      "source": [
        "Checking Outliers"
      ],
      "metadata": {
        "id": "sXFhsbaCOMCF"
      }
    },
    {
      "cell_type": "code",
      "source": [
        "#make a specific kind of plot\n",
        "finaldf['CPI'].plot(kind = 'box')"
      ],
      "metadata": {
        "colab": {
          "base_uri": "https://localhost:8080/",
          "height": 282
        },
        "id": "OYNNGK6JFYhn",
        "outputId": "e97cac5c-5a93-41ae-a037-9420fa4ce4a9"
      },
      "execution_count": 62,
      "outputs": [
        {
          "output_type": "execute_result",
          "data": {
            "text/plain": [
              "<matplotlib.axes._subplots.AxesSubplot at 0x7f7aa8e10250>"
            ]
          },
          "metadata": {},
          "execution_count": 62
        },
        {
          "output_type": "display_data",
          "data": {
            "text/plain": [
              "<Figure size 432x288 with 1 Axes>"
            ],
            "image/png": "[encoded data removed]"
          },
          "metadata": {
            "needs_background": "light"
          }
        }
      ]
    },
    {
      "cell_type": "markdown",
      "source": [
        "Few Outliers Aboce 290 observed"
      ],
      "metadata": {
        "id": "tpG6c9WrOUaN"
      }
    },
    {
      "cell_type": "code",
      "source": [
        "#make a specific kind of plot\n",
        "finaldf['CESR'].plot(kind = 'box')"
      ],
      "metadata": {
        "colab": {
          "base_uri": "https://localhost:8080/",
          "height": 282
        },
        "id": "7g7j3tEjF3J4",
        "outputId": "a94264be-fe29-4064-e130-4c6609b458fe"
      },
      "execution_count": 63,
      "outputs": [
        {
          "output_type": "execute_result",
          "data": {
            "text/plain": [
              "<matplotlib.axes._subplots.AxesSubplot at 0x7f7aa8d78b10>"
            ]
          },
          "metadata": {},
          "execution_count": 63
        },
        {
          "output_type": "display_data",
          "data": {
            "text/plain": [
              "<Figure size 432x288 with 1 Axes>"
            ],
            "image/png": "[encoded data removed]"
          },
          "metadata": {
            "needs_background": "light"
          }
        }
      ]
    },
    {
      "cell_type": "code",
      "source": [
        "#make a specific kind of plot\n",
        "finaldf['UNEMPR'].plot(kind = 'box')"
      ],
      "metadata": {
        "colab": {
          "base_uri": "https://localhost:8080/",
          "height": 282
        },
        "id": "4fREcnaoF4M6",
        "outputId": "ded8f710-7eae-4767-807f-901dda73ae7c"
      },
      "execution_count": 64,
      "outputs": [
        {
          "output_type": "execute_result",
          "data": {
            "text/plain": [
              "<matplotlib.axes._subplots.AxesSubplot at 0x7f7aa8d67690>"
            ]
          },
          "metadata": {},
          "execution_count": 64
        },
        {
          "output_type": "display_data",
          "data": {
            "text/plain": [
              "<Figure size 432x288 with 1 Axes>"
            ],
            "image/png": "[encoded data removed]"
          },
          "metadata": {
            "needs_background": "light"
          }
        }
      ]
    },
    {
      "cell_type": "markdown",
      "source": [
        "Few Outliers Above 10 observed"
      ],
      "metadata": {
        "id": "JCQDFwXeOc2k"
      }
    },
    {
      "cell_type": "code",
      "source": [
        "#make a specific kind of plot\n",
        "finaldf['LFPR'].plot(kind = 'box')"
      ],
      "metadata": {
        "colab": {
          "base_uri": "https://localhost:8080/",
          "height": 282
        },
        "id": "BaYtc23gF4-t",
        "outputId": "f2a40f4a-2071-4c67-da7c-186ed782caa8"
      },
      "execution_count": 65,
      "outputs": [
        {
          "output_type": "execute_result",
          "data": {
            "text/plain": [
              "<matplotlib.axes._subplots.AxesSubplot at 0x7f7aa8ccce90>"
            ]
          },
          "metadata": {},
          "execution_count": 65
        },
        {
          "output_type": "display_data",
          "data": {
            "text/plain": [
              "<Figure size 432x288 with 1 Axes>"
            ],
            "image/png": "[encoded data removed]"
          },
          "metadata": {
            "needs_background": "light"
          }
        }
      ]
    },
    {
      "cell_type": "markdown",
      "source": [
        "Outliers Above 63.5 and below 61.5 observed."
      ],
      "metadata": {
        "id": "fPRuNHKbOjRJ"
      }
    },
    {
      "cell_type": "code",
      "source": [
        "print(finaldf.skew())"
      ],
      "metadata": {
        "colab": {
          "base_uri": "https://localhost:8080/"
        },
        "id": "1Of3LFQ4ErYc",
        "outputId": "221c99ad-e2e5-40e2-a11d-d1bd56950e7c"
      },
      "execution_count": 60,
      "outputs": [
        {
          "output_type": "stream",
          "name": "stdout",
          "text": [
            "CPI       1.140642\n",
            "UNEMPR    2.235891\n",
            "CESR     -0.325844\n",
            "LFPR     -1.273245\n",
            "dtype: float64\n"
          ]
        },
        {
          "output_type": "stream",
          "name": "stderr",
          "text": [
            "/usr/local/lib/python3.7/dist-packages/ipykernel_launcher.py:1: FutureWarning: Dropping of nuisance columns in DataFrame reductions (with 'numeric_only=None') is deprecated; in a future version this will raise TypeError.  Select only valid columns before calling the reduction.\n",
            "  \"\"\"Entry point for launching an IPython kernel.\n"
          ]
        }
      ]
    },
    {
      "cell_type": "markdown",
      "source": [
        "A skewness value greater than 1 or less than -1 indicates a highly skewed distribution. A value between 0.5 and 1 or -0.5 and -1 is moderately skewed. A value between -0.5 and 0.5 indicates that the distribution is fairly symmetrical"
      ],
      "metadata": {
        "id": "oQRWE3EgOEPh"
      }
    },
    {
      "cell_type": "markdown",
      "source": [
        "PLOTTING DENSITY GRAPHS AND VISUALIZING SKEWNESS"
      ],
      "metadata": {
        "id": "WEUOGVfnPXi5"
      }
    },
    {
      "cell_type": "code",
      "source": [
        "finaldf['CPI'].plot(kind = 'density')"
      ],
      "metadata": {
        "colab": {
          "base_uri": "https://localhost:8080/",
          "height": 282
        },
        "id": "r1P7DTcRFmkU",
        "outputId": "240c5b9a-a979-44d1-846c-359305433bc6"
      },
      "execution_count": 66,
      "outputs": [
        {
          "output_type": "execute_result",
          "data": {
            "text/plain": [
              "<matplotlib.axes._subplots.AxesSubplot at 0x7f7aa8c46610>"
            ]
          },
          "metadata": {},
          "execution_count": 66
        },
        {
          "output_type": "display_data",
          "data": {
            "text/plain": [
              "<Figure size 432x288 with 1 Axes>"
            ],
            "image/png": "[encoded data removed]"
          },
          "metadata": {
            "needs_background": "light"
          }
        }
      ]
    },
    {
      "cell_type": "code",
      "source": [
        "finaldf['CESR'].plot(kind = 'density')"
      ],
      "metadata": {
        "colab": {
          "base_uri": "https://localhost:8080/",
          "height": 293
        },
        "id": "Ic6yyGmDGE1i",
        "outputId": "49ebd1e7-eef7-4cf0-9071-4ddd058fa558"
      },
      "execution_count": 67,
      "outputs": [
        {
          "output_type": "execute_result",
          "data": {
            "text/plain": [
              "<matplotlib.axes._subplots.AxesSubplot at 0x7f7aa8bc4350>"
            ]
          },
          "metadata": {},
          "execution_count": 67
        },
        {
          "output_type": "display_data",
          "data": {
            "text/plain": [
              "<Figure size 432x288 with 1 Axes>"
            ],
            "image/png": "[encoded data removed]"
          },
          "metadata": {
            "needs_background": "light"
          }
        }
      ]
    },
    {
      "cell_type": "code",
      "source": [
        "finaldf['LFPR'].plot(kind = 'density')"
      ],
      "metadata": {
        "colab": {
          "base_uri": "https://localhost:8080/",
          "height": 282
        },
        "id": "wxaT_qJaGF-r",
        "outputId": "7139d584-850e-4368-d57e-b5a8cfc7ae2e"
      },
      "execution_count": 68,
      "outputs": [
        {
          "output_type": "execute_result",
          "data": {
            "text/plain": [
              "<matplotlib.axes._subplots.AxesSubplot at 0x7f7aa8ba79d0>"
            ]
          },
          "metadata": {},
          "execution_count": 68
        },
        {
          "output_type": "display_data",
          "data": {
            "text/plain": [
              "<Figure size 432x288 with 1 Axes>"
            ],
            "image/png": "[encoded data removed]"
          },
          "metadata": {
            "needs_background": "light"
          }
        }
      ]
    },
    {
      "cell_type": "code",
      "source": [
        "finaldf['UNEMPR'].plot(kind = 'density')"
      ],
      "metadata": {
        "colab": {
          "base_uri": "https://localhost:8080/",
          "height": 282
        },
        "id": "3x5SlgCZGGml",
        "outputId": "93817068-afdf-45bc-f7e2-b1d42a830f5a"
      },
      "execution_count": 69,
      "outputs": [
        {
          "output_type": "execute_result",
          "data": {
            "text/plain": [
              "<matplotlib.axes._subplots.AxesSubplot at 0x7f7aa8b0a4d0>"
            ]
          },
          "metadata": {},
          "execution_count": 69
        },
        {
          "output_type": "display_data",
          "data": {
            "text/plain": [
              "<Figure size 432x288 with 1 Axes>"
            ],
            "image/png": "[encoded data removed]"
          },
          "metadata": {
            "needs_background": "light"
          }
        }
      ]
    },
    {
      "cell_type": "markdown",
      "source": [
        "PLOTTING TIME SERIES GRAPHS"
      ],
      "metadata": {
        "id": "NZpKHb33Pray"
      }
    },
    {
      "cell_type": "code",
      "source": [
        "sns.lineplot(x='Date',y='UNEMPR',data=finaldf)"
      ],
      "metadata": {
        "colab": {
          "base_uri": "https://localhost:8080/",
          "height": 296
        },
        "id": "HoxRUFtp8qO9",
        "outputId": "207fa481-58a9-4011-abe1-8265566b8512"
      },
      "execution_count": 71,
      "outputs": [
        {
          "output_type": "execute_result",
          "data": {
            "text/plain": [
              "<matplotlib.axes._subplots.AxesSubplot at 0x7f7aa8aeed90>"
            ]
          },
          "metadata": {},
          "execution_count": 71
        },
        {
          "output_type": "display_data",
          "data": {
            "text/plain": [
              "<Figure size 432x288 with 1 Axes>"
            ],
            "image/png": "[encoded data removed]"
          },
          "metadata": {
            "needs_background": "light"
          }
        }
      ]
    },
    {
      "cell_type": "code",
      "source": [
        "sns.lineplot(x='Date',y='CESR',data=finaldf)"
      ],
      "metadata": {
        "colab": {
          "base_uri": "https://localhost:8080/",
          "height": 296
        },
        "id": "eyiYehDC9Ikz",
        "outputId": "466c7640-f83b-4d51-e3e0-30e547253949"
      },
      "execution_count": 72,
      "outputs": [
        {
          "output_type": "execute_result",
          "data": {
            "text/plain": [
              "<matplotlib.axes._subplots.AxesSubplot at 0x7f7aa8924090>"
            ]
          },
          "metadata": {},
          "execution_count": 72
        },
        {
          "output_type": "display_data",
          "data": {
            "text/plain": [
              "<Figure size 432x288 with 1 Axes>"
            ],
            "image/png": "[encoded data removed]"
          },
          "metadata": {
            "needs_background": "light"
          }
        }
      ]
    },
    {
      "cell_type": "code",
      "source": [
        "sns.lineplot(x='Date',y='LFPR',data=finaldf)"
      ],
      "metadata": {
        "colab": {
          "base_uri": "https://localhost:8080/",
          "height": 296
        },
        "id": "K5a15upG9Kx-",
        "outputId": "282b1fc8-5954-413a-9b17-887eb4a21580"
      },
      "execution_count": 73,
      "outputs": [
        {
          "output_type": "execute_result",
          "data": {
            "text/plain": [
              "<matplotlib.axes._subplots.AxesSubplot at 0x7f7aa8707ad0>"
            ]
          },
          "metadata": {},
          "execution_count": 73
        },
        {
          "output_type": "display_data",
          "data": {
            "text/plain": [
              "<Figure size 432x288 with 1 Axes>"
            ],
            "image/png": "[encoded data removed]"
          },
          "metadata": {
            "needs_background": "light"
          }
        }
      ]
    },
    {
      "cell_type": "markdown",
      "source": [
        "SAVING MERGED CSV FILE FOR FUTURE ANANYSIS"
      ],
      "metadata": {
        "id": "rGvwHMMXPitq"
      }
    },
    {
      "cell_type": "code",
      "source": [
        "finaldf.to_csv('mergedData.csv')"
      ],
      "metadata": {
        "id": "9l_GNGtr5PJQ"
      },
      "execution_count": 70,
      "outputs": []
    },
    {
      "cell_type": "markdown",
      "source": [
        "GETTING DATA VIA API AND SAVING IT INTO TEXT FILE\n",
        "https://www.bls.gov/developers/api_python.htm"
      ],
      "metadata": {
        "id": "wRaqdpwAHUQZ"
      }
    },
    {
      "cell_type": "code",
      "source": [
        "import prettytable"
      ],
      "metadata": {
        "id": "nGRU1WPvG6bc"
      },
      "execution_count": null,
      "outputs": []
    },
    {
      "cell_type": "code",
      "source": [
        "base_url = 'https://api.bls.gov/publicAPI/v1/timeseries/data/'"
      ],
      "metadata": {
        "id": "y_csIKyXHSqZ"
      },
      "execution_count": null,
      "outputs": []
    },
    {
      "cell_type": "code",
      "source": [
        "# Creating a Dictionary\n",
        "dict={0: {'name': 'Unemployement', 'seriesId': 'LNS14000000'},1: {'name': 'Consumer Price Index', 'seriesId': 'CUUR0000SA0'},\n",
        "      2: {'name': 'current Employement Statistic', 'seriesId': 'CES0000000001'},3: {'name': 'Unemployment Rate', 'seriesId': 'LNS14000006'},\n",
        "      4: {'name': 'Consumer Price Index for All Urban Consumers', 'seriesId': 'CUSR0000SA0'},5: {'name': 'Labor Force Participation Rate', 'seriesId': 'LNS11300000'},\n",
        "      6: {'name': 'Urban Consumers', 'seriesId': 'CUUR0000SA0L1E'},7: {'name': 'Current Employment Statistics', 'seriesId': 'CES3000000001'},\n",
        "      8: {'name': 'Average Hourly Earnings of All Employees', 'seriesId': 'CES0500000003'}}"
      ],
      "metadata": {
        "id": "iw1ZR6S_G7HT"
      },
      "execution_count": null,
      "outputs": []
    },
    {
      "cell_type": "code",
      "source": [
        "\n",
        "headers = {'Content-type': 'application/json'}\n",
        "data = json.dumps({\"seriesid\": [dict[0]['seriesId'],dict[1]['seriesId'],\n",
        "                               dict[2]['seriesId'],dict[3]['seriesId'],\n",
        "                               dict[4]['seriesId'],dict[5]['seriesId'],\n",
        "                               dict[6]['seriesId'],dict[7]['seriesId'],\n",
        "                               dict[8]['seriesId']],\"startyear\":\"2014\", \"endyear\":\"2021\"})\n",
        "#data = json.dumps({\"seriesid\": ['CUUR0000SA0','SUUR0000SA0'],\"startyear\":\"2021\", \"endyear\":\"2022\"})\n",
        "p = requests.post('https://api.bls.gov/publicAPI/v2/timeseries/data/', data=data, headers=headers)\n",
        "json_data = json.loads(p.text)\n",
        "for series in json_data['Results']['series']:\n",
        "    x=prettytable.PrettyTable([\"series id\",\"year\",\"period\",\"value\",\"footnotes\"])\n",
        "    seriesId = series['seriesID']\n",
        "    for item in series['data']:\n",
        "        year = item['year']\n",
        "        period = item['period']\n",
        "        value = item['value']\n",
        "        footnotes=\"\"\n",
        "        for footnote in item['footnotes']:\n",
        "            if footnote:\n",
        "                footnotes = footnotes + footnote['text'] + ','\n",
        "        if 'M01' <= period <= 'M12':\n",
        "            x.add_row([seriesId,year,period,value,footnotes[0:-1]])\n",
        "    output = open(seriesId + '.txt','w')\n",
        "    output.write (x.get_string())\n",
        "    output.close()"
      ],
      "metadata": {
        "id": "qz0FiyxEHCjU"
      },
      "execution_count": null,
      "outputs": []
    },
    {
      "cell_type": "code",
      "source": [
        "data_url0 = f\"{base_url}{dict[0]['seriesId']}\"\n",
        "print(data_url0)\n",
        "\n",
        "data_url1 = f\"{base_url}{dict[1]['seriesId']}\"\n",
        "print(data_url1)\n",
        "\n",
        "data_url2 = f\"{base_url}{dict[2]['seriesId']}\"\n",
        "print(data_url2)\n",
        "\n",
        "data_url3 = f\"{base_url}{dict[3]['seriesId']}\"\n",
        "print(data_url3)\n",
        "\n",
        "data_url4 = f\"{base_url}{dict[4]['seriesId']}\"\n",
        "print(data_url4)\n",
        "\n",
        "data_url5 = f\"{base_url}{dict[5]['seriesId']}\"\n",
        "print(data_url5)\n",
        "\n",
        "data_url6 = f\"{base_url}{dict[6]['seriesId']}\"\n",
        "print(data_url6)\n",
        "\n",
        "data_url7 = f\"{base_url}{dict[7]['seriesId']}\"\n",
        "print(data_url7)\n",
        "\n",
        "data_url8 = f\"{base_url}{dict[8]['seriesId']}\"\n",
        "print(data_url8)"
      ],
      "metadata": {
        "id": "gWyMX0RyHNsM"
      },
      "execution_count": null,
      "outputs": []
    },
    {
      "cell_type": "code",
      "source": [
        "import requests\n",
        "#url = 'https://api.bls.gov/publicAPI/v1/timeseries/data/CUUR0000SA0' # using the Inflation & Prices average price series\n",
        "data0 = requests.get(data_url0).json()\n",
        "print('Status: ' + data0['status'])\n",
        "\n",
        "data1 = requests.get(data_url1).json()\n",
        "print('Status: ' + data1['status'])\n",
        "\n",
        "data2 = requests.get(data_url2).json()\n",
        "print('Status: ' + data2['status'])\n",
        "\n",
        "data3 = requests.get(data_url3).json()\n",
        "print('Status: ' + data3['status'])\n",
        "\n",
        "data4 = requests.get(data_url4).json()\n",
        "print('Status: ' + data4['status'])\n",
        "\n",
        "data5 = requests.get(data_url5).json()\n",
        "print('Status: ' + data5['status'])\n",
        "\n",
        "data6 = requests.get(data_url6).json()\n",
        "print('Status: ' + data6['status'])\n",
        "\n",
        "data7 = requests.get(data_url7).json()\n",
        "print('Status: ' + data7['status'])\n",
        "\n",
        "data8 = requests.get(data_url8).json()\n",
        "print('Status: ' + data8['status'])"
      ],
      "metadata": {
        "id": "MNk3xsOTHk_9"
      },
      "execution_count": null,
      "outputs": []
    },
    {
      "cell_type": "code",
      "source": [
        "# read the data as a data frame\n",
        "#import pandas as pd\n",
        "# get months and years and concatenate them\n",
        "date0 = ['{}-{}'.format(i['period'].replace(\"M\", \"\"), i['year']) for i in data0]\n",
        "date0\n",
        "\n",
        "# read the data as a data frame\n",
        "#import pandas as pd\n",
        "# get months and years and concatenate them\n",
        "date1 = ['{}-{}'.format(i['period'].replace(\"M\", \"\"), i['year']) for i in data1]\n",
        "date1\n",
        "\n",
        "# read the data as a data frame\n",
        "#import pandas as pd\n",
        "# get months and years and concatenate them\n",
        "date2 = ['{}-{}'.format(i['period'].replace(\"M\", \"\"), i['year']) for i in data2]\n",
        "date2\n",
        "\n",
        "# read the data as a data frame\n",
        "#import pandas as pd\n",
        "# get months and years and concatenate them\n",
        "date3 = ['{}-{}'.format(i['period'].replace(\"M\", \"\"), i['year']) for i in data3]\n",
        "date3\n",
        "\n",
        "# read the data as a data frame\n",
        "#import pandas as pd\n",
        "# get months and years and concatenate them\n",
        "date4 = ['{}-{}'.format(i['period'].replace(\"M\", \"\"), i['year']) for i in data4]\n",
        "date4\n",
        "\n",
        "# read the data as a data frame\n",
        "import pandas as pd\n",
        "# get months and years and concatenate them\n",
        "date5 = ['{}-{}'.format(i['period'].replace(\"M\", \"\"), i['year']) for i in data5]\n",
        "date5\n",
        "\n",
        "# read the data as a data frame\n",
        "import pandas as pd\n",
        "# get months and years and concatenate them\n",
        "date6 = ['{}-{}'.format(i['period'].replace(\"M\", \"\"), i['year']) for i in data6]\n",
        "date6\n",
        "\n",
        "# read the data as a data frame\n",
        "import pandas as pd\n",
        "# get months and years and concatenate them\n",
        "date7 = ['{}-{}'.format(i['period'].replace(\"M\", \"\"), i['year']) for i in data7]\n",
        "date7\n",
        "\n",
        "# read the data as a data frame\n",
        "import pandas as pd\n",
        "# get months and years and concatenate them\n",
        "date8 = ['{}-{}'.format(i['period'].replace(\"M\", \"\"), i['year']) for i in data8]\n",
        "date8"
      ],
      "metadata": {
        "id": "HHT9SeP9HuWP"
      },
      "execution_count": null,
      "outputs": []
    },
    {
      "cell_type": "code",
      "source": [
        "# get moths as a list\n",
        "month0 = [i['periodName'] for i in data0]\n",
        "month0\n",
        "\n",
        "# get moths as a list\n",
        "month1 = [i['periodName'] for i in data1]\n",
        "month1\n",
        "\n",
        "# get moths as a list\n",
        "month2 = [i['periodName'] for i in data2]\n",
        "month2\n",
        "\n",
        "# get moths as a list\n",
        "month3 = [i['periodName'] for i in data3]\n",
        "month3\n",
        "\n",
        "# get moths as a list\n",
        "month4 = [i['periodName'] for i in data4]\n",
        "month4\n",
        "\n",
        "# get moths as a list\n",
        "month5 = [i['periodName'] for i in data5]\n",
        "month5\n",
        "\n",
        "# get moths as a list\n",
        "month6 = [i['periodName'] for i in data6]\n",
        "month6\n",
        "\n",
        "# get moths as a list\n",
        "month7 = [i['periodName'] for i in data7]\n",
        "month7\n",
        "\n",
        "# get moths as a list\n",
        "month8 = [i['periodName'] for i in data8]\n",
        "month8"
      ],
      "metadata": {
        "id": "FibWQ5jJHvka"
      },
      "execution_count": null,
      "outputs": []
    }
  ]
}